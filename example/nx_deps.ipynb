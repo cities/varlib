{
 "cells": [
  {
   "cell_type": "code",
   "execution_count": 7,
   "metadata": {},
   "outputs": [
    {
     "name": "stdout",
     "output_type": "stream",
     "text": [
      "{'household.nadults': ['household.hhsize', 'household.nchildren'], 'household.cars_per_adults': ['household.cars', 'household.nadults'], 'household.cars_per_adults_gt1': ['household.cars_per_adults'], 'household.sqrt_hhsize': ['household.hhsize'], 'household.nchildren': ['person.is_child', 'person.household_id'], 'person.is_child': ['person.age'], 'person.is_girl': ['person.is_child', 'person.sex'], 'person.nadults': ['household.nadults', 'person.household_id']}\n"
     ]
    },
    {
     "data": {
      "text/html": [
       "\n",
       "        <iframe\n",
       "            width=\"500px\"\n",
       "            height=\"500px\"\n",
       "            src=\"mygraph.html\"\n",
       "            frameborder=\"0\"\n",
       "            allowfullscreen\n",
       "        ></iframe>\n",
       "        "
      ],
      "text/plain": [
       "<IPython.lib.display.IFrame at 0x7fc66a00a9d0>"
      ]
     },
     "execution_count": 7,
     "metadata": {},
     "output_type": "execute_result"
    }
   ],
   "source": [
    "import networkx as nx\n",
    "from ast_dependencies import *\n",
    "import itertools\n",
    "\n",
    "print(dep_graph)\n",
    "\n",
    "G = nx.DiGraph()\n",
    "for k, v in dep_graph.items():\n",
    "    G.add_node(k)\n",
    "    G.add_nodes_from(v)\n",
    "    edges = itertools.zip_longest(v, [k], fillvalue=k)\n",
    "    G.add_edges_from(edges)\n",
    "    \n",
    "#nx.draw(G, with_labels=True)\n",
    "#import pylab as plt\n",
    "#plt.savefig('deps.png')\n",
    "\n",
    "from pyvis.network import Network\n",
    "VG = Network(notebook=True)\n",
    "VG.from_nx(G)\n",
    "#VG.enable_physics(True)\n",
    "VG.show(\"mygraph.html\")"
   ]
  },
  {
   "cell_type": "code",
   "execution_count": null,
   "metadata": {},
   "outputs": [],
   "source": [
    "for v in dep_graph.keys():\n",
    "    assert G.has_node(v)\n",
    "    nx.algorithms.dag.ancestors(G, v)\n",
    "\n",
    "def traverse(G, v):\n",
    "    print(f\"{v}->\")\n",
    "    return [traverse(G, n) for n in G.predecessors(v)]"
   ]
  },
  {
   "cell_type": "code",
   "execution_count": null,
   "metadata": {},
   "outputs": [],
   "source": []
  },
  {
   "cell_type": "code",
   "execution_count": null,
   "metadata": {},
   "outputs": [],
   "source": []
  }
 ],
 "metadata": {
  "kernelspec": {
   "display_name": "Python 3",
   "language": "python",
   "name": "python3"
  },
  "language_info": {
   "codemirror_mode": {
    "name": "ipython",
    "version": 3
   },
   "file_extension": ".py",
   "mimetype": "text/x-python",
   "name": "python",
   "nbconvert_exporter": "python",
   "pygments_lexer": "ipython3",
   "version": "3.8.0"
  }
 },
 "nbformat": 4,
 "nbformat_minor": 4
}
